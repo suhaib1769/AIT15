{
 "cells": [
  {
   "cell_type": "code",
   "execution_count": 13,
   "metadata": {},
   "outputs": [],
   "source": [
    "class Bayes:\n",
    "    def __init__(self, hypotheses, priors, observations, likelihoods):\n",
    "        self.hypotheses = hypotheses\n",
    "        self.priors = priors\n",
    "        self.observations = observations\n",
    "        self.likelihoods = likelihoods\n",
    "\n",
    "    def print_init_values(self):\n",
    "        print(f\"List of Hypotheses: {self.hypotheses}\")\n",
    "        print(f\"List of Prior probabilities: {self.priors}\")\n",
    "        print(f\"List of observations: {self.observations}\")\n",
    "        print(f\"List of likelihoods: {self.likelihoods}\")\n",
    "\n",
    "    def likelihood(self, observation, hypothesis):\n",
    "        hypo_index = self.hypotheses.index(hypothesis)\n",
    "        obv_index = self.observations.index(observation)\n",
    "        return self.likelihoods[hypo_index][obv_index]\n",
    "\n",
    "    def norm_constant(self, observation):\n",
    "        norm_c = 0\n",
    "        obv_index = self.observations.index(observation)\n",
    "        for i in range(len(self.hypotheses)):\n",
    "            norm_c += self.priors[i] * self.likelihoods[i][obv_index]\n",
    "        return norm_c\n",
    "\n",
    "    def single_posterior_update(self, observation, priors):\n",
    "        posteriors = []\n",
    "        norm_c = self.norm_constant(observation)\n",
    "\n",
    "        for i in range(len(priors)):\n",
    "            likelihood = self.likelihood(observation, self.hypotheses[i])\n",
    "            posteriors.append(priors[i]*likelihood/norm_c)\n",
    "\n",
    "        return posteriors\n",
    "\n",
    "    def compute_posterior(self, obv_list): # have to check formula (right now: recursively update the posterior probabilities so that previous posterior becomes current prior)\n",
    "        posterior = self.single_posterior_update(obv_list[0], self.priors)\n",
    "        for i in range(1, len(obv_list)):\n",
    "            posterior = self.single_posterior_update(obv_list[i], posterior)\n",
    "        return posterior"
   ]
  },
  {
   "cell_type": "code",
   "execution_count": 20,
   "metadata": {},
   "outputs": [
    {
     "name": "stdout",
     "output_type": "stream",
     "text": [
      "likelihood(chocolate, Bowl1) = 0.3 \n",
      "normalizing constant for vanilla: 0.55\n",
      "vanilla - posterior: [0.6363636363636362, 0.36363636363636365]\n",
      "chocolate, vanilla - posterior: [0.4242424242424242, 0.4848484848484849]\n"
     ]
    }
   ],
   "source": [
    "cookies = Bayes(\n",
    "    hypotheses = [\"Bowl1\", \"Bowl2\"], \n",
    "    priors = [0.5, 0.5], \n",
    "    observations = [\"chocolate\", \"vanilla\"], \n",
    "    likelihoods = [\n",
    "        [15/50, 35/50], \n",
    "        [30/50, 20/50]\n",
    "    ]\n",
    ")\n",
    "\n",
    "# cookies.print_init_values()\n",
    "# print(\"--------------------\")\n",
    "# print(f\"Likelihood: {cookies.likelihood('chocolate', 'Bowl1')}\")\n",
    "# print(f\"Norm_Constant: {cookies.norm_constant('vanilla')}\")\n",
    "# print(f\"Posterior probabilities updated: {cookies.single_posterior_update('vanilla', [0.5, 0.5])}\")\n",
    "# print(f\"Final All Posterior probabilities: {cookies.compute_posterior(['chocolate', 'vanilla'])}\")\n",
    "# print(\"--------------------\")\n",
    "answers = []\n",
    "\n",
    "l = cookies.likelihood(\"chocolate\", \"Bowl1\")\n",
    "print(\"likelihood(chocolate, Bowl1) = %s \" % l)\n",
    "n_c = cookies.norm_constant(\"vanilla\")\n",
    "print(\"normalizing constant for vanilla: %s\" % n_c)\n",
    "p_1 = cookies.single_posterior_update(\"vanilla\", [0.5, 0.5])\n",
    "print(\"vanilla - posterior: %s\" % p_1)\n",
    "answers.append(p_1[0])\n",
    "p_2 = cookies.compute_posterior([\"chocolate\", \"vanilla\"])\n",
    "p_2_answer = (cookies.likelihood(\"vanilla\", \"Bowl2\")*cookies.likelihood(\"chocolate\", \"Bowl2\")*cookies.priors[0])/((cookies.priors[0]*cookies.likelihood(\"vanilla\", \"Bowl2\") + cookies.priors[0]*cookies.likelihood(\"vanilla\", \"Bowl1\"))*(cookies.priors[0]*cookies.likelihood(\"chocolate\", \"Bowl2\") + cookies.priors[0]*cookies.likelihood(\"chocolate\", \"Bowl1\")))\n",
    "print(\"chocolate, vanilla - posterior: %s\" % p_2)\n",
    "answers.append(p_2_answer)\n"
   ]
  },
  {
   "cell_type": "code",
   "execution_count": 22,
   "metadata": {},
   "outputs": [
    {
     "name": "stdout",
     "output_type": "stream",
     "text": [
      "Probability of archer being Intermediate: 0.0993150269746014\n",
      "Most likely level of the archer is Advanced\n"
     ]
    }
   ],
   "source": [
    "archery = Bayes(\n",
    "    hypotheses=[\"Beginner\", \"Intermediate\", \"Advanced\", \"Expert\"],\n",
    "    priors = [0.25, 0.25, 0.25, 0.25],\n",
    "    observations=[\"Yellow\", \"Red\", \"Blue\", \"Black\", \"White\"],\n",
    "    likelihoods=[\n",
    "        [0.05, 0.1, 0.4, 0.25, 0.2],\n",
    "        [0.1, 0.2, 0.4, 0.2, 0.1],\n",
    "        [0.2, 0.4, 0.25, 0.1, 0.05],\n",
    "        [0.3, 0.5, 0.125, 0.05, 0.025]\n",
    "    ]\n",
    ")\n",
    "\n",
    "probs = archery.compute_posterior([\"Yellow\", \"White\", \"Red\", \"Red\", \"Blue\"])\n",
    "print(f\"Probability of archer being Intermediate: {probs[archery.hypotheses.index('Intermediate')]}\")\n",
    "answers.append(probs[archery.hypotheses.index('Intermediate')])\n",
    "most_likely_level = archery.hypotheses[probs.index(max(probs))]\n",
    "print(f\"Most likely level of the archer is {most_likely_level}\")\n",
    "answers.append(most_likely_level)"
   ]
  },
  {
   "cell_type": "code",
   "execution_count": 26,
   "metadata": {},
   "outputs": [],
   "source": [
    "def file_creator():\n",
    "    with open(\"group_15.txt\", 'w') as file:\n",
    "        answer_string = \"\"\n",
    "        for i in range(len(answers)):\n",
    "            answer_string += \"Answer question {number}: {answer}\\n\".format(number = i+1, answer = answers[i])\n",
    "        file.write(answer_string)"
   ]
  },
  {
   "cell_type": "code",
   "execution_count": 27,
   "metadata": {},
   "outputs": [
    {
     "ename": "FileExistsError",
     "evalue": "[Errno 17] File exists: 'group_15.txt'",
     "output_type": "error",
     "traceback": [
      "\u001b[1;31m---------------------------------------------------------------------------\u001b[0m",
      "\u001b[1;31mFileExistsError\u001b[0m                           Traceback (most recent call last)",
      "Cell \u001b[1;32mIn [27], line 2\u001b[0m\n\u001b[0;32m      1\u001b[0m \u001b[38;5;28;01mif\u001b[39;00m \u001b[38;5;18m__name__\u001b[39m \u001b[38;5;241m==\u001b[39m \u001b[38;5;124m\"\u001b[39m\u001b[38;5;124m__main__\u001b[39m\u001b[38;5;124m\"\u001b[39m:\n\u001b[1;32m----> 2\u001b[0m     \u001b[43mfile_creator\u001b[49m\u001b[43m(\u001b[49m\u001b[43m)\u001b[49m\n",
      "Cell \u001b[1;32mIn [26], line 2\u001b[0m, in \u001b[0;36mfile_creator\u001b[1;34m()\u001b[0m\n\u001b[0;32m      1\u001b[0m \u001b[38;5;28;01mdef\u001b[39;00m \u001b[38;5;21mfile_creator\u001b[39m():\n\u001b[1;32m----> 2\u001b[0m     \u001b[38;5;28;01mwith\u001b[39;00m \u001b[38;5;28;43mopen\u001b[39;49m\u001b[43m(\u001b[49m\u001b[38;5;124;43m\"\u001b[39;49m\u001b[38;5;124;43mgroup_15.txt\u001b[39;49m\u001b[38;5;124;43m\"\u001b[39;49m\u001b[43m,\u001b[49m\u001b[43m \u001b[49m\u001b[38;5;124;43m'\u001b[39;49m\u001b[38;5;124;43mx\u001b[39;49m\u001b[38;5;124;43m'\u001b[39;49m\u001b[43m)\u001b[49m \u001b[38;5;28;01mas\u001b[39;00m file:\n\u001b[0;32m      3\u001b[0m         answer_string \u001b[38;5;241m=\u001b[39m \u001b[38;5;124m\"\u001b[39m\u001b[38;5;124m\"\u001b[39m\n\u001b[0;32m      4\u001b[0m         \u001b[38;5;28;01mfor\u001b[39;00m i \u001b[38;5;129;01min\u001b[39;00m \u001b[38;5;28mrange\u001b[39m(\u001b[38;5;28mlen\u001b[39m(answers)):\n",
      "\u001b[1;31mFileExistsError\u001b[0m: [Errno 17] File exists: 'group_15.txt'"
     ]
    }
   ],
   "source": [
    "# import os\n",
    "# if __name__ == \"__main__\":\n",
    "#     try:\n",
    "#         file_creator()\n",
    "#     except:\n",
    "#         print(\"Variable x is not defined\")\n",
    "        \n",
    "file_creator()"
   ]
  },
  {
   "cell_type": "code",
   "execution_count": null,
   "metadata": {},
   "outputs": [],
   "source": []
  }
 ],
 "metadata": {
  "kernelspec": {
   "display_name": "Python 3.9.1 64-bit",
   "language": "python",
   "name": "python3"
  },
  "language_info": {
   "codemirror_mode": {
    "name": "ipython",
    "version": 3
   },
   "file_extension": ".py",
   "mimetype": "text/x-python",
   "name": "python",
   "nbconvert_exporter": "python",
   "pygments_lexer": "ipython3",
   "version": "3.9.1"
  },
  "orig_nbformat": 4,
  "vscode": {
   "interpreter": {
    "hash": "81794d4967e6c3204c66dcd87b604927b115b27c00565d3d43f05ba2f3a2cb0d"
   }
  }
 },
 "nbformat": 4,
 "nbformat_minor": 2
}
