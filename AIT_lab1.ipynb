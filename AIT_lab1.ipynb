{
 "cells": [
  {
   "cell_type": "code",
   "execution_count": 79,
   "metadata": {},
   "outputs": [],
   "source": [
    "class Bayes:\n",
    "    def __init__(self, hypotheses, priors, observations, likelihoods):\n",
    "        self.hypotheses = hypotheses\n",
    "        self.priors = priors\n",
    "        self.observations = observations\n",
    "        self.likelihoods = likelihoods\n",
    "\n",
    "    def print_init_values(self):\n",
    "        print(f\"List of Hypotheses: {self.hypotheses}\")\n",
    "        print(f\"List of Prior probabilities: {self.priors}\")\n",
    "        print(f\"List of observations: {self.observations}\")\n",
    "        print(f\"List of likelihoods: {self.likelihoods}\")\n",
    "\n",
    "    def likelihood(self, observation, hypothesis):\n",
    "        hypo_index = self.hypotheses.index(hypothesis)\n",
    "        obv_index = self.observations.index(observation)\n",
    "        return self.likelihoods[hypo_index][obv_index]\n",
    "\n",
    "    def norm_constant(self, observation):\n",
    "        norm_c = 0\n",
    "        obv_index = self.observations.index(observation)\n",
    "        for i in range(len(self.hypotheses)):\n",
    "            norm_c += self.priors[i] * self.likelihoods[i][obv_index]\n",
    "        return norm_c\n",
    "\n",
    "    def single_posterior_update(self, observation, priors):\n",
    "        posteriors = []\n",
    "        norm_c = self.norm_constant(observation)\n",
    "\n",
    "        for i in range(len(priors)):\n",
    "            likelihood = self.likelihood(observation, self.hypotheses[i])\n",
    "            posteriors.append(priors[i]*likelihood/norm_c)\n",
    "\n",
    "        return posteriors\n",
    "\n",
    "    def compute_posterior(self, obv_list): # have to check formula (right now: recursively update the posterior probabilities so that previous posterior becomes current prior)\n",
    "        posterior = self.single_posterior_update(obv_list[0], self.priors)\n",
    "        for i in range(1, len(obv_list)):\n",
    "            posterior = self.single_posterior_update(obv_list[i], posterior)\n",
    "        return posterior"
   ]
  },
  {
   "cell_type": "code",
   "execution_count": 85,
   "metadata": {},
   "outputs": [
    {
     "name": "stdout",
     "output_type": "stream",
     "text": [
      "likelihood(chocolate, Bowl1) = 0.7 \n",
      "normalizing constant for vanilla: 0.44999999999999996\n",
      "vanilla - posterior: [0.33333333333333337, 0.6666666666666667]\n",
      "chocolate, vanilla - posterior: [0.4242424242424242, 0.48484848484848486]\n"
     ]
    }
   ],
   "source": [
    "cookies = Bayes(\n",
    "    hypotheses = [\"Bowl1\", \"Bowl2\"], \n",
    "    priors = [0.5, 0.5], \n",
    "    observations = [\"vanilla\", \"chocolate\"], \n",
    "    likelihoods = [\n",
    "        [15/50, 35/50], \n",
    "        [30/50, 20/50]\n",
    "    ]\n",
    ")\n",
    "\n",
    "# cookies.print_init_values()\n",
    "# print(\"--------------------\")\n",
    "# print(f\"Likelihood: {cookies.likelihood('chocolate', 'Bowl1')}\")\n",
    "# print(f\"Norm_Constant: {cookies.norm_constant('vanilla')}\")\n",
    "# print(f\"Posterior probabilities updated: {cookies.single_posterior_update('vanilla', [0.5, 0.5])}\")\n",
    "# print(f\"Final All Posterior probabilities: {cookies.compute_posterior(['chocolate', 'vanilla'])}\")\n",
    "# print(\"--------------------\")\n",
    "l = cookies.likelihood(\"chocolate\", \"Bowl1\")\n",
    "print(\"likelihood(chocolate, Bowl1) = %s \" % l)\n",
    "n_c = cookies.norm_constant(\"vanilla\")\n",
    "print(\"normalizing constant for vanilla: %s\" % n_c)\n",
    "p_1 = cookies.single_posterior_update(\"vanilla\", [0.5, 0.5])\n",
    "print(\"vanilla - posterior: %s\" % p_1)\n",
    "p_2 = cookies.compute_posterior([\"chocolate\", \"vanilla\"])\n",
    "print(\"chocolate, vanilla - posterior: %s\" % p_2)"
   ]
  },
  {
   "cell_type": "code",
   "execution_count": 86,
   "metadata": {},
   "outputs": [
    {
     "name": "stdout",
     "output_type": "stream",
     "text": [
      "Probability of archer being Intermediate: 0.0993150269746014\n",
      "Most likely level of the archer is Advanced\n"
     ]
    }
   ],
   "source": [
    "archery = Bayes(\n",
    "    hypotheses=[\"Beginner\", \"Intermediate\", \"Advanced\", \"Expert\"],\n",
    "    priors = [0.25, 0.25, 0.25, 0.25],\n",
    "    observations=[\"Yellow\", \"Red\", \"Blue\", \"Black\", \"White\"],\n",
    "    likelihoods=[\n",
    "        [0.05, 0.1, 0.4, 0.25, 0.2],\n",
    "        [0.1, 0.2, 0.4, 0.2, 0.1],\n",
    "        [0.2, 0.4, 0.25, 0.1, 0.05],\n",
    "        [0.3, 0.5, 0.125, 0.05, 0.025]\n",
    "    ]\n",
    ")\n",
    "\n",
    "probs = archery.compute_posterior([\"Yellow\", \"White\", \"Red\", \"Red\", \"Blue\"])\n",
    "print(f\"Probability of archer being Intermediate: {probs[archery.hypotheses.index('Intermediate')]}\")\n",
    "most_likely_level = archery.hypotheses[probs.index(max(probs))]\n",
    "print(f\"Most likely level of the archer is {most_likely_level}\")"
   ]
  },
  {
   "cell_type": "code",
   "execution_count": null,
   "metadata": {},
   "outputs": [],
   "source": []
  }
 ],
 "metadata": {
  "kernelspec": {
   "display_name": "Python 3.9.12 ('base')",
   "language": "python",
   "name": "python3"
  },
  "language_info": {
   "codemirror_mode": {
    "name": "ipython",
    "version": 3
   },
   "file_extension": ".py",
   "mimetype": "text/x-python",
   "name": "python",
   "nbconvert_exporter": "python",
   "pygments_lexer": "ipython3",
   "version": "3.9.12"
  },
  "orig_nbformat": 4,
  "vscode": {
   "interpreter": {
    "hash": "79af0b5dc4ae37fd107c7e4197ea11aee7d8c4c4d9b81c47909cf36459d66d10"
   }
  }
 },
 "nbformat": 4,
 "nbformat_minor": 2
}
